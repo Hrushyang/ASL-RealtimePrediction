{
 "cells": [
  {
   "cell_type": "code",
   "execution_count": 2,
   "metadata": {
    "id": "igMyGnjE9hEp"
   },
   "outputs": [],
   "source": [
    "import csv\n",
    "\n",
    "import numpy as np\n",
    "import tensorflow as tf\n",
    "from sklearn.model_selection import train_test_split\n",
    "\n",
    "RANDOM_SEED = 42"
   ]
  },
  {
   "cell_type": "markdown",
   "metadata": {
    "id": "t2HDvhIu9hEr"
   },
   "source": [
    "# Specify each path"
   ]
  },
  {
   "cell_type": "code",
   "execution_count": 3,
   "metadata": {
    "id": "9NvZP2Zn9hEy"
   },
   "outputs": [],
   "source": [
    "dataset = 'model/keypoint_classifier/keypoint.csv'\n",
    "model_save_path = 'model/keypoint_classifier/keypoint_classifier.hdf5'\n",
    "tflite_save_path = 'model/keypoint_classifier/keypoint_classifier.tflite'"
   ]
  },
  {
   "cell_type": "markdown",
   "metadata": {
    "id": "s5oMH7x19hEz"
   },
   "source": [
    "# Set number of classes"
   ]
  },
  {
   "cell_type": "code",
   "execution_count": 4,
   "metadata": {
    "id": "du4kodXL9hEz"
   },
   "outputs": [],
   "source": [
    "NUM_CLASSES = 6"
   ]
  },
  {
   "cell_type": "markdown",
   "metadata": {
    "id": "XjnL0uso9hEz"
   },
   "source": [
    "# Dataset reading"
   ]
  },
  {
   "cell_type": "code",
   "execution_count": 5,
   "metadata": {
    "id": "QT5ZqtEz9hE0"
   },
   "outputs": [],
   "source": [
    "X_dataset = np.loadtxt(dataset, delimiter=',', dtype='float32', usecols=list(range(1, (21 * 2) + 1)))"
   ]
  },
  {
   "cell_type": "code",
   "execution_count": 6,
   "metadata": {
    "id": "QmoKFsp49hE0"
   },
   "outputs": [],
   "source": [
    "y_dataset = np.loadtxt(dataset, delimiter=',', dtype='int32', usecols=(0))"
   ]
  },
  {
   "cell_type": "code",
   "execution_count": 7,
   "metadata": {
    "id": "xQU7JTZ_9hE0"
   },
   "outputs": [],
   "source": [
    "X_train, X_test, y_train, y_test = train_test_split(X_dataset, y_dataset, train_size=0.75, random_state=RANDOM_SEED)"
   ]
  },
  {
   "cell_type": "markdown",
   "metadata": {
    "id": "mxK_lETT9hE0"
   },
   "source": [
    "# Model building"
   ]
  },
  {
   "cell_type": "code",
   "execution_count": 8,
   "metadata": {
    "id": "vHBmUf1t9hE1"
   },
   "outputs": [],
   "source": [
    "model = tf.keras.models.Sequential([\n",
    "    tf.keras.layers.Input((21 * 2, )),\n",
    "    tf.keras.layers.Dropout(0.2),\n",
    "    tf.keras.layers.Dense(20, activation='relu'),\n",
    "    tf.keras.layers.Dropout(0.4),\n",
    "    tf.keras.layers.Dense(10, activation='relu'),\n",
    "    tf.keras.layers.Dense(NUM_CLASSES, activation='softmax')\n",
    "])"
   ]
  },
  {
   "cell_type": "code",
   "execution_count": 9,
   "metadata": {
    "colab": {
     "base_uri": "https://localhost:8080/"
    },
    "id": "ypqky9tc9hE1",
    "outputId": "5db082bb-30e3-4110-bf63-a1ee777ecd46"
   },
   "outputs": [
    {
     "name": "stdout",
     "output_type": "stream",
     "text": [
      "Model: \"sequential\"\n",
      "_________________________________________________________________\n",
      " Layer (type)                Output Shape              Param #   \n",
      "=================================================================\n",
      " dropout (Dropout)           (None, 42)                0         \n",
      "                                                                 \n",
      " dense (Dense)               (None, 20)                860       \n",
      "                                                                 \n",
      " dropout_1 (Dropout)         (None, 20)                0         \n",
      "                                                                 \n",
      " dense_1 (Dense)             (None, 10)                210       \n",
      "                                                                 \n",
      " dense_2 (Dense)             (None, 6)                 66        \n",
      "                                                                 \n",
      "=================================================================\n",
      "Total params: 1,136\n",
      "Trainable params: 1,136\n",
      "Non-trainable params: 0\n",
      "_________________________________________________________________\n"
     ]
    }
   ],
   "source": [
    "model.summary()  # tf.keras.utils.plot_model(model, show_shapes=True)"
   ]
  },
  {
   "cell_type": "code",
   "execution_count": 10,
   "metadata": {
    "id": "MbMjOflQ9hE1"
   },
   "outputs": [],
   "source": [
    "# Model checkpoint callback\n",
    "cp_callback = tf.keras.callbacks.ModelCheckpoint(\n",
    "    model_save_path, verbose=1, save_weights_only=False)\n",
    "# Callback for early stopping\n",
    "es_callback = tf.keras.callbacks.EarlyStopping(patience=20, verbose=1)"
   ]
  },
  {
   "cell_type": "code",
   "execution_count": 11,
   "metadata": {
    "id": "c3Dac0M_9hE2"
   },
   "outputs": [],
   "source": [
    "# Model compilation\n",
    "model.compile(\n",
    "    optimizer='adam',\n",
    "    loss='sparse_categorical_crossentropy',\n",
    "    metrics=['accuracy']\n",
    ")"
   ]
  },
  {
   "cell_type": "markdown",
   "metadata": {
    "id": "7XI0j1Iu9hE2"
   },
   "source": [
    "# Model training"
   ]
  },
  {
   "cell_type": "code",
   "execution_count": 12,
   "metadata": {
    "colab": {
     "base_uri": "https://localhost:8080/"
    },
    "id": "WirBl-JE9hE3",
    "outputId": "71b30ca2-8294-4d9d-8aa2-800d90d399de",
    "scrolled": true
   },
   "outputs": [
    {
     "name": "stdout",
     "output_type": "stream",
     "text": [
      "Epoch 1/1000\n",
      "24/42 [================>.............] - ETA: 0s - loss: 1.6781 - accuracy: 0.2952 \n",
      "Epoch 1: saving model to model/keypoint_classifier\\keypoint_classifier.hdf5\n",
      "42/42 [==============================] - 2s 7ms/step - loss: 1.6098 - accuracy: 0.3533 - val_loss: 1.4168 - val_accuracy: 0.5562\n",
      "Epoch 2/1000\n",
      "21/42 [==============>...............] - ETA: 0s - loss: 1.4277 - accuracy: 0.4524\n",
      "Epoch 2: saving model to model/keypoint_classifier\\keypoint_classifier.hdf5\n",
      "42/42 [==============================] - 0s 4ms/step - loss: 1.3981 - accuracy: 0.4645 - val_loss: 1.2163 - val_accuracy: 0.5936\n",
      "Epoch 3/1000\n",
      "22/42 [==============>...............] - ETA: 0s - loss: 1.2833 - accuracy: 0.5142\n",
      "Epoch 3: saving model to model/keypoint_classifier\\keypoint_classifier.hdf5\n",
      "42/42 [==============================] - 0s 4ms/step - loss: 1.2661 - accuracy: 0.5249 - val_loss: 1.0778 - val_accuracy: 0.6495\n",
      "Epoch 4/1000\n",
      "42/42 [==============================] - ETA: 0s - loss: 1.1620 - accuracy: 0.5653\n",
      "Epoch 4: saving model to model/keypoint_classifier\\keypoint_classifier.hdf5\n",
      "42/42 [==============================] - 0s 4ms/step - loss: 1.1620 - accuracy: 0.5653 - val_loss: 0.9616 - val_accuracy: 0.6909\n",
      "Epoch 5/1000\n",
      "22/42 [==============>...............] - ETA: 0s - loss: 1.1167 - accuracy: 0.5739\n",
      "Epoch 5: saving model to model/keypoint_classifier\\keypoint_classifier.hdf5\n",
      "42/42 [==============================] - 0s 4ms/step - loss: 1.0907 - accuracy: 0.5797 - val_loss: 0.8843 - val_accuracy: 0.7110\n",
      "Epoch 6/1000\n",
      "23/42 [===============>..............] - ETA: 0s - loss: 1.0497 - accuracy: 0.5924\n",
      "Epoch 6: saving model to model/keypoint_classifier\\keypoint_classifier.hdf5\n",
      "42/42 [==============================] - 0s 4ms/step - loss: 1.0238 - accuracy: 0.6059 - val_loss: 0.8228 - val_accuracy: 0.7211\n",
      "Epoch 7/1000\n",
      "25/42 [================>.............] - ETA: 0s - loss: 1.0015 - accuracy: 0.6053\n",
      "Epoch 7: saving model to model/keypoint_classifier\\keypoint_classifier.hdf5\n",
      "42/42 [==============================] - 0s 4ms/step - loss: 0.9949 - accuracy: 0.6145 - val_loss: 0.7806 - val_accuracy: 0.7574\n",
      "Epoch 8/1000\n",
      "24/42 [================>.............] - ETA: 0s - loss: 0.9351 - accuracy: 0.6296\n",
      "Epoch 8: saving model to model/keypoint_classifier\\keypoint_classifier.hdf5\n",
      "42/42 [==============================] - 0s 4ms/step - loss: 0.9260 - accuracy: 0.6369 - val_loss: 0.7402 - val_accuracy: 0.7686\n",
      "Epoch 9/1000\n",
      "28/42 [===================>..........] - ETA: 0s - loss: 0.9276 - accuracy: 0.6373\n",
      "Epoch 9: saving model to model/keypoint_classifier\\keypoint_classifier.hdf5\n",
      "42/42 [==============================] - 0s 3ms/step - loss: 0.9191 - accuracy: 0.6419 - val_loss: 0.7139 - val_accuracy: 0.7831\n",
      "Epoch 10/1000\n",
      "23/42 [===============>..............] - ETA: 0s - loss: 0.8799 - accuracy: 0.6512\n",
      "Epoch 10: saving model to model/keypoint_classifier\\keypoint_classifier.hdf5\n",
      "42/42 [==============================] - 0s 4ms/step - loss: 0.8859 - accuracy: 0.6492 - val_loss: 0.6953 - val_accuracy: 0.7831\n",
      "Epoch 11/1000\n",
      "25/42 [================>.............] - ETA: 0s - loss: 0.8530 - accuracy: 0.6769\n",
      "Epoch 11: saving model to model/keypoint_classifier\\keypoint_classifier.hdf5\n",
      "42/42 [==============================] - 0s 4ms/step - loss: 0.8592 - accuracy: 0.6723 - val_loss: 0.6661 - val_accuracy: 0.7965\n",
      "Epoch 12/1000\n",
      "24/42 [================>.............] - ETA: 0s - loss: 0.8612 - accuracy: 0.6738\n",
      "Epoch 12: saving model to model/keypoint_classifier\\keypoint_classifier.hdf5\n",
      "42/42 [==============================] - 0s 4ms/step - loss: 0.8623 - accuracy: 0.6691 - val_loss: 0.6461 - val_accuracy: 0.8027\n",
      "Epoch 13/1000\n",
      "26/42 [=================>............] - ETA: 0s - loss: 0.8416 - accuracy: 0.6884\n",
      "Epoch 13: saving model to model/keypoint_classifier\\keypoint_classifier.hdf5\n",
      "42/42 [==============================] - 0s 4ms/step - loss: 0.8358 - accuracy: 0.6873 - val_loss: 0.6268 - val_accuracy: 0.8088\n",
      "Epoch 14/1000\n",
      "26/42 [=================>............] - ETA: 0s - loss: 0.8156 - accuracy: 0.6902\n",
      "Epoch 14: saving model to model/keypoint_classifier\\keypoint_classifier.hdf5\n",
      "42/42 [==============================] - 0s 4ms/step - loss: 0.8176 - accuracy: 0.6900 - val_loss: 0.6118 - val_accuracy: 0.8234\n",
      "Epoch 15/1000\n",
      "24/42 [================>.............] - ETA: 0s - loss: 0.7992 - accuracy: 0.7109\n",
      "Epoch 15: saving model to model/keypoint_classifier\\keypoint_classifier.hdf5\n",
      "42/42 [==============================] - 0s 4ms/step - loss: 0.8060 - accuracy: 0.6991 - val_loss: 0.5957 - val_accuracy: 0.8200\n",
      "Epoch 16/1000\n",
      "27/42 [==================>...........] - ETA: 0s - loss: 0.7916 - accuracy: 0.7034\n",
      "Epoch 16: saving model to model/keypoint_classifier\\keypoint_classifier.hdf5\n",
      "42/42 [==============================] - 0s 3ms/step - loss: 0.7964 - accuracy: 0.7032 - val_loss: 0.5792 - val_accuracy: 0.8345\n",
      "Epoch 17/1000\n",
      "26/42 [=================>............] - ETA: 0s - loss: 0.7804 - accuracy: 0.7013\n",
      "Epoch 17: saving model to model/keypoint_classifier\\keypoint_classifier.hdf5\n",
      "42/42 [==============================] - 0s 4ms/step - loss: 0.7773 - accuracy: 0.7095 - val_loss: 0.5598 - val_accuracy: 0.8491\n",
      "Epoch 18/1000\n",
      "23/42 [===============>..............] - ETA: 0s - loss: 0.7824 - accuracy: 0.7116\n",
      "Epoch 18: saving model to model/keypoint_classifier\\keypoint_classifier.hdf5\n",
      "42/42 [==============================] - 0s 4ms/step - loss: 0.7828 - accuracy: 0.7091 - val_loss: 0.5543 - val_accuracy: 0.8463\n",
      "Epoch 19/1000\n",
      "26/42 [=================>............] - ETA: 0s - loss: 0.7484 - accuracy: 0.7284\n",
      "Epoch 19: saving model to model/keypoint_classifier\\keypoint_classifier.hdf5\n",
      "42/42 [==============================] - 0s 3ms/step - loss: 0.7484 - accuracy: 0.7216 - val_loss: 0.5321 - val_accuracy: 0.8575\n",
      "Epoch 20/1000\n",
      "25/42 [================>.............] - ETA: 0s - loss: 0.7542 - accuracy: 0.7253\n",
      "Epoch 20: saving model to model/keypoint_classifier\\keypoint_classifier.hdf5\n",
      "42/42 [==============================] - 0s 4ms/step - loss: 0.7475 - accuracy: 0.7244 - val_loss: 0.5186 - val_accuracy: 0.8653\n",
      "Epoch 21/1000\n",
      "22/42 [==============>...............] - ETA: 0s - loss: 0.7240 - accuracy: 0.7347\n",
      "Epoch 21: saving model to model/keypoint_classifier\\keypoint_classifier.hdf5\n",
      "42/42 [==============================] - 0s 4ms/step - loss: 0.7405 - accuracy: 0.7306 - val_loss: 0.5080 - val_accuracy: 0.8753\n",
      "Epoch 22/1000\n",
      "23/42 [===============>..............] - ETA: 0s - loss: 0.7209 - accuracy: 0.7374\n",
      "Epoch 22: saving model to model/keypoint_classifier\\keypoint_classifier.hdf5\n",
      "42/42 [==============================] - 0s 4ms/step - loss: 0.7206 - accuracy: 0.7418 - val_loss: 0.4921 - val_accuracy: 0.8703\n",
      "Epoch 23/1000\n",
      "23/42 [===============>..............] - ETA: 0s - loss: 0.7170 - accuracy: 0.7347\n",
      "Epoch 23: saving model to model/keypoint_classifier\\keypoint_classifier.hdf5\n",
      "42/42 [==============================] - 0s 4ms/step - loss: 0.7118 - accuracy: 0.7382 - val_loss: 0.4776 - val_accuracy: 0.8843\n",
      "Epoch 24/1000\n",
      "24/42 [================>.............] - ETA: 0s - loss: 0.7196 - accuracy: 0.7419\n",
      "Epoch 24: saving model to model/keypoint_classifier\\keypoint_classifier.hdf5\n",
      "42/42 [==============================] - 0s 4ms/step - loss: 0.7223 - accuracy: 0.7401 - val_loss: 0.4657 - val_accuracy: 0.8843\n",
      "Epoch 25/1000\n",
      "27/42 [==================>...........] - ETA: 0s - loss: 0.7053 - accuracy: 0.7468\n",
      "Epoch 25: saving model to model/keypoint_classifier\\keypoint_classifier.hdf5\n",
      "42/42 [==============================] - 0s 3ms/step - loss: 0.6972 - accuracy: 0.7477 - val_loss: 0.4569 - val_accuracy: 0.8854\n",
      "Epoch 26/1000\n",
      "25/42 [================>.............] - ETA: 0s - loss: 0.6804 - accuracy: 0.7513\n",
      "Epoch 26: saving model to model/keypoint_classifier\\keypoint_classifier.hdf5\n",
      "42/42 [==============================] - 0s 4ms/step - loss: 0.6872 - accuracy: 0.7479 - val_loss: 0.4493 - val_accuracy: 0.8871\n",
      "Epoch 27/1000\n",
      "25/42 [================>.............] - ETA: 0s - loss: 0.6778 - accuracy: 0.7569\n",
      "Epoch 27: saving model to model/keypoint_classifier\\keypoint_classifier.hdf5\n",
      "42/42 [==============================] - 0s 4ms/step - loss: 0.6809 - accuracy: 0.7578 - val_loss: 0.4421 - val_accuracy: 0.8988\n",
      "Epoch 28/1000\n"
     ]
    },
    {
     "name": "stdout",
     "output_type": "stream",
     "text": [
      "21/42 [==============>...............] - ETA: 0s - loss: 0.6772 - accuracy: 0.7597\n",
      "Epoch 28: saving model to model/keypoint_classifier\\keypoint_classifier.hdf5\n",
      "42/42 [==============================] - 0s 4ms/step - loss: 0.6843 - accuracy: 0.7563 - val_loss: 0.4326 - val_accuracy: 0.8994\n",
      "Epoch 29/1000\n",
      "23/42 [===============>..............] - ETA: 0s - loss: 0.6573 - accuracy: 0.7724\n",
      "Epoch 29: saving model to model/keypoint_classifier\\keypoint_classifier.hdf5\n",
      "42/42 [==============================] - 0s 4ms/step - loss: 0.6666 - accuracy: 0.7660 - val_loss: 0.4203 - val_accuracy: 0.8944\n",
      "Epoch 30/1000\n",
      "41/42 [============================>.] - ETA: 0s - loss: 0.6773 - accuracy: 0.7565\n",
      "Epoch 30: saving model to model/keypoint_classifier\\keypoint_classifier.hdf5\n",
      "42/42 [==============================] - 0s 5ms/step - loss: 0.6783 - accuracy: 0.7555 - val_loss: 0.4174 - val_accuracy: 0.9005\n",
      "Epoch 31/1000\n",
      "22/42 [==============>...............] - ETA: 0s - loss: 0.6546 - accuracy: 0.7692\n",
      "Epoch 31: saving model to model/keypoint_classifier\\keypoint_classifier.hdf5\n",
      "42/42 [==============================] - 0s 4ms/step - loss: 0.6588 - accuracy: 0.7650 - val_loss: 0.4098 - val_accuracy: 0.8966\n",
      "Epoch 32/1000\n",
      "38/42 [==========================>...] - ETA: 0s - loss: 0.6571 - accuracy: 0.7664\n",
      "Epoch 32: saving model to model/keypoint_classifier\\keypoint_classifier.hdf5\n",
      "42/42 [==============================] - 0s 5ms/step - loss: 0.6506 - accuracy: 0.7678 - val_loss: 0.4013 - val_accuracy: 0.9055\n",
      "Epoch 33/1000\n",
      "24/42 [================>.............] - ETA: 0s - loss: 0.6564 - accuracy: 0.7686\n",
      "Epoch 33: saving model to model/keypoint_classifier\\keypoint_classifier.hdf5\n",
      "42/42 [==============================] - 0s 4ms/step - loss: 0.6317 - accuracy: 0.7785 - val_loss: 0.3942 - val_accuracy: 0.9027\n",
      "Epoch 34/1000\n",
      "30/42 [====================>.........] - ETA: 0s - loss: 0.6458 - accuracy: 0.7714\n",
      "Epoch 34: saving model to model/keypoint_classifier\\keypoint_classifier.hdf5\n",
      "42/42 [==============================] - 0s 5ms/step - loss: 0.6423 - accuracy: 0.7718 - val_loss: 0.3914 - val_accuracy: 0.9027\n",
      "Epoch 35/1000\n",
      "25/42 [================>.............] - ETA: 0s - loss: 0.6306 - accuracy: 0.7847\n",
      "Epoch 35: saving model to model/keypoint_classifier\\keypoint_classifier.hdf5\n",
      "42/42 [==============================] - 0s 4ms/step - loss: 0.6401 - accuracy: 0.7786 - val_loss: 0.3818 - val_accuracy: 0.9067\n",
      "Epoch 36/1000\n",
      "24/42 [================>.............] - ETA: 0s - loss: 0.6429 - accuracy: 0.7721\n",
      "Epoch 36: saving model to model/keypoint_classifier\\keypoint_classifier.hdf5\n",
      "42/42 [==============================] - 0s 4ms/step - loss: 0.6394 - accuracy: 0.7729 - val_loss: 0.3808 - val_accuracy: 0.9033\n",
      "Epoch 37/1000\n",
      "23/42 [===============>..............] - ETA: 0s - loss: 0.6243 - accuracy: 0.7860\n",
      "Epoch 37: saving model to model/keypoint_classifier\\keypoint_classifier.hdf5\n",
      "42/42 [==============================] - 0s 4ms/step - loss: 0.6298 - accuracy: 0.7773 - val_loss: 0.3697 - val_accuracy: 0.9083\n",
      "Epoch 38/1000\n",
      "25/42 [================>.............] - ETA: 0s - loss: 0.6259 - accuracy: 0.7766\n",
      "Epoch 38: saving model to model/keypoint_classifier\\keypoint_classifier.hdf5\n",
      "42/42 [==============================] - 0s 4ms/step - loss: 0.6273 - accuracy: 0.7814 - val_loss: 0.3664 - val_accuracy: 0.9139\n",
      "Epoch 39/1000\n",
      "23/42 [===============>..............] - ETA: 0s - loss: 0.6393 - accuracy: 0.7683\n",
      "Epoch 39: saving model to model/keypoint_classifier\\keypoint_classifier.hdf5\n",
      "42/42 [==============================] - 0s 4ms/step - loss: 0.6347 - accuracy: 0.7719 - val_loss: 0.3622 - val_accuracy: 0.9128\n",
      "Epoch 40/1000\n",
      "26/42 [=================>............] - ETA: 0s - loss: 0.6029 - accuracy: 0.7843\n",
      "Epoch 40: saving model to model/keypoint_classifier\\keypoint_classifier.hdf5\n",
      "42/42 [==============================] - 0s 4ms/step - loss: 0.6074 - accuracy: 0.7813 - val_loss: 0.3534 - val_accuracy: 0.9122\n",
      "Epoch 41/1000\n",
      "25/42 [================>.............] - ETA: 0s - loss: 0.6309 - accuracy: 0.7744\n",
      "Epoch 41: saving model to model/keypoint_classifier\\keypoint_classifier.hdf5\n",
      "42/42 [==============================] - 0s 4ms/step - loss: 0.6128 - accuracy: 0.7835 - val_loss: 0.3449 - val_accuracy: 0.9178\n",
      "Epoch 42/1000\n",
      "23/42 [===============>..............] - ETA: 0s - loss: 0.6123 - accuracy: 0.7823\n",
      "Epoch 42: saving model to model/keypoint_classifier\\keypoint_classifier.hdf5\n",
      "42/42 [==============================] - 0s 4ms/step - loss: 0.6018 - accuracy: 0.7837 - val_loss: 0.3443 - val_accuracy: 0.9117\n",
      "Epoch 43/1000\n",
      "24/42 [================>.............] - ETA: 0s - loss: 0.6078 - accuracy: 0.7956\n",
      "Epoch 43: saving model to model/keypoint_classifier\\keypoint_classifier.hdf5\n",
      "42/42 [==============================] - 0s 4ms/step - loss: 0.6084 - accuracy: 0.7904 - val_loss: 0.3449 - val_accuracy: 0.9156\n",
      "Epoch 44/1000\n",
      "25/42 [================>.............] - ETA: 0s - loss: 0.5720 - accuracy: 0.7978\n",
      "Epoch 44: saving model to model/keypoint_classifier\\keypoint_classifier.hdf5\n",
      "42/42 [==============================] - 0s 4ms/step - loss: 0.5997 - accuracy: 0.7904 - val_loss: 0.3460 - val_accuracy: 0.9156\n",
      "Epoch 45/1000\n",
      "24/42 [================>.............] - ETA: 0s - loss: 0.6063 - accuracy: 0.7874\n",
      "Epoch 45: saving model to model/keypoint_classifier\\keypoint_classifier.hdf5\n",
      "42/42 [==============================] - 0s 4ms/step - loss: 0.6037 - accuracy: 0.7844 - val_loss: 0.3361 - val_accuracy: 0.9195\n",
      "Epoch 46/1000\n",
      "25/42 [================>.............] - ETA: 0s - loss: 0.6050 - accuracy: 0.7897\n",
      "Epoch 46: saving model to model/keypoint_classifier\\keypoint_classifier.hdf5\n",
      "42/42 [==============================] - 0s 4ms/step - loss: 0.6007 - accuracy: 0.7950 - val_loss: 0.3319 - val_accuracy: 0.9150\n",
      "Epoch 47/1000\n",
      "32/42 [=====================>........] - ETA: 0s - loss: 0.5951 - accuracy: 0.7856\n",
      "Epoch 47: saving model to model/keypoint_classifier\\keypoint_classifier.hdf5\n",
      "42/42 [==============================] - 0s 5ms/step - loss: 0.5978 - accuracy: 0.7852 - val_loss: 0.3302 - val_accuracy: 0.9206\n",
      "Epoch 48/1000\n",
      "24/42 [================>.............] - ETA: 0s - loss: 0.5992 - accuracy: 0.7839\n",
      "Epoch 48: saving model to model/keypoint_classifier\\keypoint_classifier.hdf5\n",
      "42/42 [==============================] - 0s 4ms/step - loss: 0.5901 - accuracy: 0.7904 - val_loss: 0.3249 - val_accuracy: 0.9195\n",
      "Epoch 49/1000\n",
      "24/42 [================>.............] - ETA: 0s - loss: 0.5974 - accuracy: 0.7855\n",
      "Epoch 49: saving model to model/keypoint_classifier\\keypoint_classifier.hdf5\n",
      "42/42 [==============================] - 0s 4ms/step - loss: 0.5888 - accuracy: 0.7945 - val_loss: 0.3280 - val_accuracy: 0.9173\n",
      "Epoch 50/1000\n",
      "24/42 [================>.............] - ETA: 0s - loss: 0.5948 - accuracy: 0.7894\n",
      "Epoch 50: saving model to model/keypoint_classifier\\keypoint_classifier.hdf5\n",
      "42/42 [==============================] - 0s 4ms/step - loss: 0.5862 - accuracy: 0.7936 - val_loss: 0.3221 - val_accuracy: 0.9167\n",
      "Epoch 51/1000\n",
      "25/42 [================>.............] - ETA: 0s - loss: 0.6126 - accuracy: 0.7769\n",
      "Epoch 51: saving model to model/keypoint_classifier\\keypoint_classifier.hdf5\n",
      "42/42 [==============================] - 0s 4ms/step - loss: 0.5948 - accuracy: 0.7887 - val_loss: 0.3216 - val_accuracy: 0.9173\n",
      "Epoch 52/1000\n",
      "23/42 [===============>..............] - ETA: 0s - loss: 0.5564 - accuracy: 0.8067\n",
      "Epoch 52: saving model to model/keypoint_classifier\\keypoint_classifier.hdf5\n",
      "42/42 [==============================] - 0s 4ms/step - loss: 0.5710 - accuracy: 0.7932 - val_loss: 0.3178 - val_accuracy: 0.9167\n",
      "Epoch 53/1000\n",
      "25/42 [================>.............] - ETA: 0s - loss: 0.5679 - accuracy: 0.8031\n",
      "Epoch 53: saving model to model/keypoint_classifier\\keypoint_classifier.hdf5\n",
      "42/42 [==============================] - 0s 4ms/step - loss: 0.5761 - accuracy: 0.7963 - val_loss: 0.3197 - val_accuracy: 0.9240\n",
      "Epoch 54/1000\n",
      "23/42 [===============>..............] - ETA: 0s - loss: 0.5769 - accuracy: 0.7952\n",
      "Epoch 54: saving model to model/keypoint_classifier\\keypoint_classifier.hdf5\n",
      "42/42 [==============================] - 0s 4ms/step - loss: 0.5820 - accuracy: 0.7930 - val_loss: 0.3095 - val_accuracy: 0.9285\n",
      "Epoch 55/1000\n"
     ]
    },
    {
     "name": "stdout",
     "output_type": "stream",
     "text": [
      "42/42 [==============================] - ETA: 0s - loss: 0.5835 - accuracy: 0.7980\n",
      "Epoch 55: saving model to model/keypoint_classifier\\keypoint_classifier.hdf5\n",
      "42/42 [==============================] - 0s 4ms/step - loss: 0.5835 - accuracy: 0.7980 - val_loss: 0.3111 - val_accuracy: 0.9257\n",
      "Epoch 56/1000\n",
      "24/42 [================>.............] - ETA: 0s - loss: 0.5879 - accuracy: 0.7988\n",
      "Epoch 56: saving model to model/keypoint_classifier\\keypoint_classifier.hdf5\n",
      "42/42 [==============================] - 0s 4ms/step - loss: 0.5872 - accuracy: 0.7958 - val_loss: 0.3172 - val_accuracy: 0.9195\n",
      "Epoch 57/1000\n",
      "24/42 [================>.............] - ETA: 0s - loss: 0.5784 - accuracy: 0.7926\n",
      "Epoch 57: saving model to model/keypoint_classifier\\keypoint_classifier.hdf5\n",
      "42/42 [==============================] - 0s 4ms/step - loss: 0.5817 - accuracy: 0.7915 - val_loss: 0.3178 - val_accuracy: 0.9201\n",
      "Epoch 58/1000\n",
      "23/42 [===============>..............] - ETA: 0s - loss: 0.5716 - accuracy: 0.8037\n",
      "Epoch 58: saving model to model/keypoint_classifier\\keypoint_classifier.hdf5\n",
      "42/42 [==============================] - 0s 4ms/step - loss: 0.5776 - accuracy: 0.7986 - val_loss: 0.3179 - val_accuracy: 0.9206\n",
      "Epoch 59/1000\n",
      "38/42 [==========================>...] - ETA: 0s - loss: 0.5738 - accuracy: 0.7965\n",
      "Epoch 59: saving model to model/keypoint_classifier\\keypoint_classifier.hdf5\n",
      "42/42 [==============================] - 0s 4ms/step - loss: 0.5787 - accuracy: 0.7947 - val_loss: 0.3045 - val_accuracy: 0.9229\n",
      "Epoch 60/1000\n",
      "41/42 [============================>.] - ETA: 0s - loss: 0.5796 - accuracy: 0.7988\n",
      "Epoch 60: saving model to model/keypoint_classifier\\keypoint_classifier.hdf5\n",
      "42/42 [==============================] - 0s 4ms/step - loss: 0.5786 - accuracy: 0.7984 - val_loss: 0.3044 - val_accuracy: 0.9290\n",
      "Epoch 61/1000\n",
      "42/42 [==============================] - ETA: 0s - loss: 0.5773 - accuracy: 0.8003\n",
      "Epoch 61: saving model to model/keypoint_classifier\\keypoint_classifier.hdf5\n",
      "42/42 [==============================] - 0s 4ms/step - loss: 0.5773 - accuracy: 0.8003 - val_loss: 0.3096 - val_accuracy: 0.9245\n",
      "Epoch 62/1000\n",
      "41/42 [============================>.] - ETA: 0s - loss: 0.5688 - accuracy: 0.7982\n",
      "Epoch 62: saving model to model/keypoint_classifier\\keypoint_classifier.hdf5\n",
      "42/42 [==============================] - 0s 4ms/step - loss: 0.5672 - accuracy: 0.7988 - val_loss: 0.3047 - val_accuracy: 0.9273\n",
      "Epoch 63/1000\n",
      "21/42 [==============>...............] - ETA: 0s - loss: 0.5682 - accuracy: 0.7891\n",
      "Epoch 63: saving model to model/keypoint_classifier\\keypoint_classifier.hdf5\n",
      "42/42 [==============================] - 0s 4ms/step - loss: 0.5744 - accuracy: 0.7891 - val_loss: 0.3041 - val_accuracy: 0.9229\n",
      "Epoch 64/1000\n",
      "42/42 [==============================] - ETA: 0s - loss: 0.5665 - accuracy: 0.8042\n",
      "Epoch 64: saving model to model/keypoint_classifier\\keypoint_classifier.hdf5\n",
      "42/42 [==============================] - 0s 4ms/step - loss: 0.5665 - accuracy: 0.8042 - val_loss: 0.3021 - val_accuracy: 0.9229\n",
      "Epoch 65/1000\n",
      "21/42 [==============>...............] - ETA: 0s - loss: 0.5498 - accuracy: 0.8051\n",
      "Epoch 65: saving model to model/keypoint_classifier\\keypoint_classifier.hdf5\n",
      "42/42 [==============================] - 0s 4ms/step - loss: 0.5484 - accuracy: 0.8064 - val_loss: 0.3025 - val_accuracy: 0.9251\n",
      "Epoch 66/1000\n",
      "21/42 [==============>...............] - ETA: 0s - loss: 0.5656 - accuracy: 0.8010\n",
      "Epoch 66: saving model to model/keypoint_classifier\\keypoint_classifier.hdf5\n",
      "42/42 [==============================] - 0s 4ms/step - loss: 0.5698 - accuracy: 0.7962 - val_loss: 0.3029 - val_accuracy: 0.9240\n",
      "Epoch 67/1000\n",
      "21/42 [==============>...............] - ETA: 0s - loss: 0.5379 - accuracy: 0.8110\n",
      "Epoch 67: saving model to model/keypoint_classifier\\keypoint_classifier.hdf5\n",
      "42/42 [==============================] - 0s 4ms/step - loss: 0.5567 - accuracy: 0.8055 - val_loss: 0.2929 - val_accuracy: 0.9296\n",
      "Epoch 68/1000\n",
      "34/42 [=======================>......] - ETA: 0s - loss: 0.5549 - accuracy: 0.8051\n",
      "Epoch 68: saving model to model/keypoint_classifier\\keypoint_classifier.hdf5\n",
      "42/42 [==============================] - 0s 5ms/step - loss: 0.5499 - accuracy: 0.8064 - val_loss: 0.2960 - val_accuracy: 0.9279\n",
      "Epoch 69/1000\n",
      "35/42 [========================>.....] - ETA: 0s - loss: 0.5501 - accuracy: 0.8056\n",
      "Epoch 69: saving model to model/keypoint_classifier\\keypoint_classifier.hdf5\n",
      "42/42 [==============================] - 0s 5ms/step - loss: 0.5399 - accuracy: 0.8101 - val_loss: 0.2949 - val_accuracy: 0.9312\n",
      "Epoch 70/1000\n",
      "35/42 [========================>.....] - ETA: 0s - loss: 0.5682 - accuracy: 0.8038\n",
      "Epoch 70: saving model to model/keypoint_classifier\\keypoint_classifier.hdf5\n",
      "42/42 [==============================] - 0s 5ms/step - loss: 0.5588 - accuracy: 0.8060 - val_loss: 0.2954 - val_accuracy: 0.9324\n",
      "Epoch 71/1000\n",
      "37/42 [=========================>....] - ETA: 0s - loss: 0.5488 - accuracy: 0.8051\n",
      "Epoch 71: saving model to model/keypoint_classifier\\keypoint_classifier.hdf5\n",
      "42/42 [==============================] - 0s 5ms/step - loss: 0.5528 - accuracy: 0.8042 - val_loss: 0.2907 - val_accuracy: 0.9301\n",
      "Epoch 72/1000\n",
      "22/42 [==============>...............] - ETA: 0s - loss: 0.5468 - accuracy: 0.8107\n",
      "Epoch 72: saving model to model/keypoint_classifier\\keypoint_classifier.hdf5\n",
      "42/42 [==============================] - 0s 4ms/step - loss: 0.5491 - accuracy: 0.8044 - val_loss: 0.2905 - val_accuracy: 0.9335\n",
      "Epoch 73/1000\n",
      "21/42 [==============>...............] - ETA: 0s - loss: 0.5523 - accuracy: 0.8185\n",
      "Epoch 73: saving model to model/keypoint_classifier\\keypoint_classifier.hdf5\n",
      "42/42 [==============================] - 0s 4ms/step - loss: 0.5548 - accuracy: 0.8142 - val_loss: 0.2884 - val_accuracy: 0.9335\n",
      "Epoch 74/1000\n",
      "22/42 [==============>...............] - ETA: 0s - loss: 0.5531 - accuracy: 0.8026\n",
      "Epoch 74: saving model to model/keypoint_classifier\\keypoint_classifier.hdf5\n",
      "42/42 [==============================] - 0s 4ms/step - loss: 0.5542 - accuracy: 0.8012 - val_loss: 0.2969 - val_accuracy: 0.9290\n",
      "Epoch 75/1000\n",
      "20/42 [=============>................] - ETA: 0s - loss: 0.5350 - accuracy: 0.8098\n",
      "Epoch 75: saving model to model/keypoint_classifier\\keypoint_classifier.hdf5\n",
      "42/42 [==============================] - 0s 4ms/step - loss: 0.5477 - accuracy: 0.8098 - val_loss: 0.2920 - val_accuracy: 0.9324\n",
      "Epoch 76/1000\n",
      "21/42 [==============>...............] - ETA: 0s - loss: 0.5431 - accuracy: 0.8051\n",
      "Epoch 76: saving model to model/keypoint_classifier\\keypoint_classifier.hdf5\n",
      "42/42 [==============================] - 0s 4ms/step - loss: 0.5509 - accuracy: 0.8021 - val_loss: 0.2934 - val_accuracy: 0.9307\n",
      "Epoch 77/1000\n",
      "21/42 [==============>...............] - ETA: 0s - loss: 0.5648 - accuracy: 0.8080\n",
      "Epoch 77: saving model to model/keypoint_classifier\\keypoint_classifier.hdf5\n",
      "42/42 [==============================] - 0s 4ms/step - loss: 0.5530 - accuracy: 0.8111 - val_loss: 0.2874 - val_accuracy: 0.9335\n",
      "Epoch 78/1000\n",
      "21/42 [==============>...............] - ETA: 0s - loss: 0.5409 - accuracy: 0.8110\n",
      "Epoch 78: saving model to model/keypoint_classifier\\keypoint_classifier.hdf5\n",
      "42/42 [==============================] - 0s 4ms/step - loss: 0.5318 - accuracy: 0.8146 - val_loss: 0.2911 - val_accuracy: 0.9307\n",
      "Epoch 79/1000\n",
      "42/42 [==============================] - ETA: 0s - loss: 0.5562 - accuracy: 0.8008\n",
      "Epoch 79: saving model to model/keypoint_classifier\\keypoint_classifier.hdf5\n",
      "42/42 [==============================] - 0s 4ms/step - loss: 0.5562 - accuracy: 0.8008 - val_loss: 0.2870 - val_accuracy: 0.9329\n",
      "Epoch 80/1000\n",
      "37/42 [=========================>....] - ETA: 0s - loss: 0.5503 - accuracy: 0.8066\n",
      "Epoch 80: saving model to model/keypoint_classifier\\keypoint_classifier.hdf5\n",
      "42/42 [==============================] - 0s 5ms/step - loss: 0.5564 - accuracy: 0.8042 - val_loss: 0.2863 - val_accuracy: 0.9279\n",
      "Epoch 81/1000\n",
      "40/42 [===========================>..] - ETA: 0s - loss: 0.5374 - accuracy: 0.8115\n",
      "Epoch 81: saving model to model/keypoint_classifier\\keypoint_classifier.hdf5\n",
      "42/42 [==============================] - 0s 4ms/step - loss: 0.5378 - accuracy: 0.8116 - val_loss: 0.2844 - val_accuracy: 0.9335\n",
      "Epoch 82/1000\n"
     ]
    },
    {
     "name": "stdout",
     "output_type": "stream",
     "text": [
      "37/42 [=========================>....] - ETA: 0s - loss: 0.5391 - accuracy: 0.8036\n",
      "Epoch 82: saving model to model/keypoint_classifier\\keypoint_classifier.hdf5\n",
      "42/42 [==============================] - 0s 5ms/step - loss: 0.5402 - accuracy: 0.8036 - val_loss: 0.2803 - val_accuracy: 0.9368\n",
      "Epoch 83/1000\n",
      "36/42 [========================>.....] - ETA: 0s - loss: 0.5577 - accuracy: 0.8123\n",
      "Epoch 83: saving model to model/keypoint_classifier\\keypoint_classifier.hdf5\n",
      "42/42 [==============================] - 0s 5ms/step - loss: 0.5600 - accuracy: 0.8101 - val_loss: 0.2879 - val_accuracy: 0.9262\n",
      "Epoch 84/1000\n",
      "22/42 [==============>...............] - ETA: 0s - loss: 0.5258 - accuracy: 0.8118\n",
      "Epoch 84: saving model to model/keypoint_classifier\\keypoint_classifier.hdf5\n",
      "42/42 [==============================] - 0s 4ms/step - loss: 0.5222 - accuracy: 0.8111 - val_loss: 0.2821 - val_accuracy: 0.9329\n",
      "Epoch 85/1000\n",
      "22/42 [==============>...............] - ETA: 0s - loss: 0.5553 - accuracy: 0.8075\n",
      "Epoch 85: saving model to model/keypoint_classifier\\keypoint_classifier.hdf5\n",
      "42/42 [==============================] - 0s 4ms/step - loss: 0.5471 - accuracy: 0.8113 - val_loss: 0.2858 - val_accuracy: 0.9352\n",
      "Epoch 86/1000\n",
      "41/42 [============================>.] - ETA: 0s - loss: 0.5306 - accuracy: 0.8136\n",
      "Epoch 86: saving model to model/keypoint_classifier\\keypoint_classifier.hdf5\n",
      "42/42 [==============================] - 0s 4ms/step - loss: 0.5315 - accuracy: 0.8124 - val_loss: 0.2752 - val_accuracy: 0.9357\n",
      "Epoch 87/1000\n",
      "41/42 [============================>.] - ETA: 0s - loss: 0.5457 - accuracy: 0.8138\n",
      "Epoch 87: saving model to model/keypoint_classifier\\keypoint_classifier.hdf5\n",
      "42/42 [==============================] - 0s 4ms/step - loss: 0.5434 - accuracy: 0.8140 - val_loss: 0.2802 - val_accuracy: 0.9363\n",
      "Epoch 88/1000\n",
      "39/42 [==========================>...] - ETA: 0s - loss: 0.5421 - accuracy: 0.8091\n",
      "Epoch 88: saving model to model/keypoint_classifier\\keypoint_classifier.hdf5\n",
      "42/42 [==============================] - 0s 4ms/step - loss: 0.5437 - accuracy: 0.8073 - val_loss: 0.2768 - val_accuracy: 0.9273\n",
      "Epoch 89/1000\n",
      "38/42 [==========================>...] - ETA: 0s - loss: 0.5400 - accuracy: 0.8100\n",
      "Epoch 89: saving model to model/keypoint_classifier\\keypoint_classifier.hdf5\n",
      "42/42 [==============================] - 0s 4ms/step - loss: 0.5353 - accuracy: 0.8135 - val_loss: 0.2769 - val_accuracy: 0.9346\n",
      "Epoch 90/1000\n",
      "38/42 [==========================>...] - ETA: 0s - loss: 0.5320 - accuracy: 0.8203\n",
      "Epoch 90: saving model to model/keypoint_classifier\\keypoint_classifier.hdf5\n",
      "42/42 [==============================] - 0s 4ms/step - loss: 0.5294 - accuracy: 0.8213 - val_loss: 0.2786 - val_accuracy: 0.9318\n",
      "Epoch 91/1000\n",
      "40/42 [===========================>..] - ETA: 0s - loss: 0.5256 - accuracy: 0.8174\n",
      "Epoch 91: saving model to model/keypoint_classifier\\keypoint_classifier.hdf5\n",
      "42/42 [==============================] - 0s 4ms/step - loss: 0.5262 - accuracy: 0.8163 - val_loss: 0.2821 - val_accuracy: 0.9324\n",
      "Epoch 92/1000\n",
      "23/42 [===============>..............] - ETA: 0s - loss: 0.5336 - accuracy: 0.8094\n",
      "Epoch 92: saving model to model/keypoint_classifier\\keypoint_classifier.hdf5\n",
      "42/42 [==============================] - 0s 4ms/step - loss: 0.5298 - accuracy: 0.8142 - val_loss: 0.2768 - val_accuracy: 0.9363\n",
      "Epoch 93/1000\n",
      "23/42 [===============>..............] - ETA: 0s - loss: 0.5126 - accuracy: 0.8203\n",
      "Epoch 93: saving model to model/keypoint_classifier\\keypoint_classifier.hdf5\n",
      "42/42 [==============================] - 0s 4ms/step - loss: 0.5203 - accuracy: 0.8198 - val_loss: 0.2722 - val_accuracy: 0.9368\n",
      "Epoch 94/1000\n",
      "40/42 [===========================>..] - ETA: 0s - loss: 0.5348 - accuracy: 0.8088\n",
      "Epoch 94: saving model to model/keypoint_classifier\\keypoint_classifier.hdf5\n",
      "42/42 [==============================] - 0s 4ms/step - loss: 0.5330 - accuracy: 0.8099 - val_loss: 0.2704 - val_accuracy: 0.9357\n",
      "Epoch 95/1000\n",
      "23/42 [===============>..............] - ETA: 0s - loss: 0.5261 - accuracy: 0.8203\n",
      "Epoch 95: saving model to model/keypoint_classifier\\keypoint_classifier.hdf5\n",
      "42/42 [==============================] - 0s 4ms/step - loss: 0.5231 - accuracy: 0.8170 - val_loss: 0.2742 - val_accuracy: 0.9357\n",
      "Epoch 96/1000\n",
      "22/42 [==============>...............] - ETA: 0s - loss: 0.5450 - accuracy: 0.8079\n",
      "Epoch 96: saving model to model/keypoint_classifier\\keypoint_classifier.hdf5\n",
      "42/42 [==============================] - 0s 4ms/step - loss: 0.5355 - accuracy: 0.8099 - val_loss: 0.2724 - val_accuracy: 0.9352\n",
      "Epoch 97/1000\n",
      "42/42 [==============================] - ETA: 0s - loss: 0.5410 - accuracy: 0.8059\n",
      "Epoch 97: saving model to model/keypoint_classifier\\keypoint_classifier.hdf5\n",
      "42/42 [==============================] - 0s 4ms/step - loss: 0.5410 - accuracy: 0.8059 - val_loss: 0.2730 - val_accuracy: 0.9352\n",
      "Epoch 98/1000\n",
      "22/42 [==============>...............] - ETA: 0s - loss: 0.5376 - accuracy: 0.8068\n",
      "Epoch 98: saving model to model/keypoint_classifier\\keypoint_classifier.hdf5\n",
      "42/42 [==============================] - 0s 4ms/step - loss: 0.5480 - accuracy: 0.8044 - val_loss: 0.2820 - val_accuracy: 0.9363\n",
      "Epoch 99/1000\n",
      "21/42 [==============>...............] - ETA: 0s - loss: 0.5329 - accuracy: 0.8218\n",
      "Epoch 99: saving model to model/keypoint_classifier\\keypoint_classifier.hdf5\n",
      "42/42 [==============================] - 0s 4ms/step - loss: 0.5278 - accuracy: 0.8239 - val_loss: 0.2756 - val_accuracy: 0.9352\n",
      "Epoch 100/1000\n",
      "23/42 [===============>..............] - ETA: 0s - loss: 0.5328 - accuracy: 0.8217\n",
      "Epoch 100: saving model to model/keypoint_classifier\\keypoint_classifier.hdf5\n",
      "42/42 [==============================] - 0s 4ms/step - loss: 0.5282 - accuracy: 0.8172 - val_loss: 0.2685 - val_accuracy: 0.9368\n",
      "Epoch 101/1000\n",
      "21/42 [==============>...............] - ETA: 0s - loss: 0.5376 - accuracy: 0.8170\n",
      "Epoch 101: saving model to model/keypoint_classifier\\keypoint_classifier.hdf5\n",
      "42/42 [==============================] - 0s 4ms/step - loss: 0.5260 - accuracy: 0.8202 - val_loss: 0.2724 - val_accuracy: 0.9329\n",
      "Epoch 102/1000\n",
      "22/42 [==============>...............] - ETA: 0s - loss: 0.5256 - accuracy: 0.8203\n",
      "Epoch 102: saving model to model/keypoint_classifier\\keypoint_classifier.hdf5\n",
      "42/42 [==============================] - 0s 4ms/step - loss: 0.5159 - accuracy: 0.8237 - val_loss: 0.2690 - val_accuracy: 0.9346\n",
      "Epoch 103/1000\n",
      "41/42 [============================>.] - ETA: 0s - loss: 0.5356 - accuracy: 0.8081\n",
      "Epoch 103: saving model to model/keypoint_classifier\\keypoint_classifier.hdf5\n",
      "42/42 [==============================] - 0s 4ms/step - loss: 0.5318 - accuracy: 0.8096 - val_loss: 0.2749 - val_accuracy: 0.9363\n",
      "Epoch 104/1000\n",
      "22/42 [==============>...............] - ETA: 0s - loss: 0.5477 - accuracy: 0.8100\n",
      "Epoch 104: saving model to model/keypoint_classifier\\keypoint_classifier.hdf5\n",
      "42/42 [==============================] - 0s 4ms/step - loss: 0.5238 - accuracy: 0.8189 - val_loss: 0.2721 - val_accuracy: 0.9346\n",
      "Epoch 105/1000\n",
      "22/42 [==============>...............] - ETA: 0s - loss: 0.5164 - accuracy: 0.8192\n",
      "Epoch 105: saving model to model/keypoint_classifier\\keypoint_classifier.hdf5\n",
      "42/42 [==============================] - 0s 4ms/step - loss: 0.5140 - accuracy: 0.8208 - val_loss: 0.2716 - val_accuracy: 0.9363\n",
      "Epoch 106/1000\n",
      "22/42 [==============>...............] - ETA: 0s - loss: 0.5347 - accuracy: 0.8107\n",
      "Epoch 106: saving model to model/keypoint_classifier\\keypoint_classifier.hdf5\n",
      "42/42 [==============================] - 0s 4ms/step - loss: 0.5326 - accuracy: 0.8116 - val_loss: 0.2661 - val_accuracy: 0.9368\n",
      "Epoch 107/1000\n",
      "42/42 [==============================] - ETA: 0s - loss: 0.5462 - accuracy: 0.8040\n",
      "Epoch 107: saving model to model/keypoint_classifier\\keypoint_classifier.hdf5\n",
      "42/42 [==============================] - 0s 4ms/step - loss: 0.5462 - accuracy: 0.8040 - val_loss: 0.2712 - val_accuracy: 0.9374\n",
      "Epoch 108/1000\n",
      "42/42 [==============================] - ETA: 0s - loss: 0.5261 - accuracy: 0.8148\n",
      "Epoch 108: saving model to model/keypoint_classifier\\keypoint_classifier.hdf5\n",
      "42/42 [==============================] - 0s 4ms/step - loss: 0.5261 - accuracy: 0.8148 - val_loss: 0.2690 - val_accuracy: 0.9357\n",
      "Epoch 109/1000\n"
     ]
    },
    {
     "name": "stdout",
     "output_type": "stream",
     "text": [
      "39/42 [==========================>...] - ETA: 0s - loss: 0.5294 - accuracy: 0.8123\n",
      "Epoch 109: saving model to model/keypoint_classifier\\keypoint_classifier.hdf5\n",
      "42/42 [==============================] - 0s 4ms/step - loss: 0.5326 - accuracy: 0.8113 - val_loss: 0.2782 - val_accuracy: 0.9352\n",
      "Epoch 110/1000\n",
      "42/42 [==============================] - ETA: 0s - loss: 0.5249 - accuracy: 0.8204\n",
      "Epoch 110: saving model to model/keypoint_classifier\\keypoint_classifier.hdf5\n",
      "42/42 [==============================] - 0s 4ms/step - loss: 0.5249 - accuracy: 0.8204 - val_loss: 0.2756 - val_accuracy: 0.9363\n",
      "Epoch 111/1000\n",
      "38/42 [==========================>...] - ETA: 0s - loss: 0.5413 - accuracy: 0.8135\n",
      "Epoch 111: saving model to model/keypoint_classifier\\keypoint_classifier.hdf5\n",
      "42/42 [==============================] - 0s 4ms/step - loss: 0.5380 - accuracy: 0.8126 - val_loss: 0.2725 - val_accuracy: 0.9368\n",
      "Epoch 112/1000\n",
      "22/42 [==============>...............] - ETA: 0s - loss: 0.5344 - accuracy: 0.8150\n",
      "Epoch 112: saving model to model/keypoint_classifier\\keypoint_classifier.hdf5\n",
      "42/42 [==============================] - 0s 4ms/step - loss: 0.5281 - accuracy: 0.8202 - val_loss: 0.2746 - val_accuracy: 0.9368\n",
      "Epoch 113/1000\n",
      "23/42 [===============>..............] - ETA: 0s - loss: 0.5563 - accuracy: 0.8003\n",
      "Epoch 113: saving model to model/keypoint_classifier\\keypoint_classifier.hdf5\n",
      "42/42 [==============================] - 0s 4ms/step - loss: 0.5477 - accuracy: 0.8057 - val_loss: 0.2712 - val_accuracy: 0.9419\n",
      "Epoch 114/1000\n",
      "37/42 [=========================>....] - ETA: 0s - loss: 0.5138 - accuracy: 0.8178\n",
      "Epoch 114: saving model to model/keypoint_classifier\\keypoint_classifier.hdf5\n",
      "42/42 [==============================] - 0s 5ms/step - loss: 0.5179 - accuracy: 0.8178 - val_loss: 0.2690 - val_accuracy: 0.9385\n",
      "Epoch 115/1000\n",
      "24/42 [================>.............] - ETA: 0s - loss: 0.5409 - accuracy: 0.8164\n",
      "Epoch 115: saving model to model/keypoint_classifier\\keypoint_classifier.hdf5\n",
      "42/42 [==============================] - 0s 4ms/step - loss: 0.5346 - accuracy: 0.8222 - val_loss: 0.2713 - val_accuracy: 0.9368\n",
      "Epoch 116/1000\n",
      "23/42 [===============>..............] - ETA: 0s - loss: 0.5039 - accuracy: 0.8237\n",
      "Epoch 116: saving model to model/keypoint_classifier\\keypoint_classifier.hdf5\n",
      "42/42 [==============================] - 0s 4ms/step - loss: 0.5263 - accuracy: 0.8140 - val_loss: 0.2696 - val_accuracy: 0.9385\n",
      "Epoch 117/1000\n",
      "36/42 [========================>.....] - ETA: 0s - loss: 0.5166 - accuracy: 0.8207\n",
      "Epoch 117: saving model to model/keypoint_classifier\\keypoint_classifier.hdf5\n",
      "42/42 [==============================] - 0s 5ms/step - loss: 0.5109 - accuracy: 0.8217 - val_loss: 0.2657 - val_accuracy: 0.9352\n",
      "Epoch 118/1000\n",
      "23/42 [===============>..............] - ETA: 0s - loss: 0.5349 - accuracy: 0.8057\n",
      "Epoch 118: saving model to model/keypoint_classifier\\keypoint_classifier.hdf5\n",
      "42/42 [==============================] - 0s 4ms/step - loss: 0.5213 - accuracy: 0.8165 - val_loss: 0.2719 - val_accuracy: 0.9352\n",
      "Epoch 119/1000\n",
      "41/42 [============================>.] - ETA: 0s - loss: 0.5169 - accuracy: 0.8119\n",
      "Epoch 119: saving model to model/keypoint_classifier\\keypoint_classifier.hdf5\n",
      "42/42 [==============================] - 0s 4ms/step - loss: 0.5143 - accuracy: 0.8135 - val_loss: 0.2666 - val_accuracy: 0.9385\n",
      "Epoch 120/1000\n",
      "32/42 [=====================>........] - ETA: 0s - loss: 0.5186 - accuracy: 0.8152\n",
      "Epoch 120: saving model to model/keypoint_classifier\\keypoint_classifier.hdf5\n",
      "42/42 [==============================] - 0s 5ms/step - loss: 0.5145 - accuracy: 0.8193 - val_loss: 0.2661 - val_accuracy: 0.9402\n",
      "Epoch 121/1000\n",
      "22/42 [==============>...............] - ETA: 0s - loss: 0.5548 - accuracy: 0.7976\n",
      "Epoch 121: saving model to model/keypoint_classifier\\keypoint_classifier.hdf5\n",
      "42/42 [==============================] - 0s 4ms/step - loss: 0.5326 - accuracy: 0.8101 - val_loss: 0.2658 - val_accuracy: 0.9407\n",
      "Epoch 122/1000\n",
      "35/42 [========================>.....] - ETA: 0s - loss: 0.5045 - accuracy: 0.8221\n",
      "Epoch 122: saving model to model/keypoint_classifier\\keypoint_classifier.hdf5\n",
      "42/42 [==============================] - 0s 5ms/step - loss: 0.5057 - accuracy: 0.8211 - val_loss: 0.2689 - val_accuracy: 0.9368\n",
      "Epoch 123/1000\n",
      "42/42 [==============================] - ETA: 0s - loss: 0.5404 - accuracy: 0.8103\n",
      "Epoch 123: saving model to model/keypoint_classifier\\keypoint_classifier.hdf5\n",
      "42/42 [==============================] - 0s 4ms/step - loss: 0.5404 - accuracy: 0.8103 - val_loss: 0.2728 - val_accuracy: 0.9385\n",
      "Epoch 124/1000\n",
      "38/42 [==========================>...] - ETA: 0s - loss: 0.5120 - accuracy: 0.8209\n",
      "Epoch 124: saving model to model/keypoint_classifier\\keypoint_classifier.hdf5\n",
      "42/42 [==============================] - 0s 4ms/step - loss: 0.5090 - accuracy: 0.8226 - val_loss: 0.2728 - val_accuracy: 0.9385\n",
      "Epoch 125/1000\n",
      "39/42 [==========================>...] - ETA: 0s - loss: 0.5170 - accuracy: 0.8225\n",
      "Epoch 125: saving model to model/keypoint_classifier\\keypoint_classifier.hdf5\n",
      "42/42 [==============================] - 0s 4ms/step - loss: 0.5163 - accuracy: 0.8219 - val_loss: 0.2698 - val_accuracy: 0.9430\n",
      "Epoch 126/1000\n",
      "24/42 [================>.............] - ETA: 0s - loss: 0.5094 - accuracy: 0.8278\n",
      "Epoch 126: saving model to model/keypoint_classifier\\keypoint_classifier.hdf5\n",
      "42/42 [==============================] - 0s 4ms/step - loss: 0.5171 - accuracy: 0.8221 - val_loss: 0.2645 - val_accuracy: 0.9402\n",
      "Epoch 127/1000\n",
      "21/42 [==============>...............] - ETA: 0s - loss: 0.5113 - accuracy: 0.8170\n",
      "Epoch 127: saving model to model/keypoint_classifier\\keypoint_classifier.hdf5\n",
      "42/42 [==============================] - 0s 4ms/step - loss: 0.5064 - accuracy: 0.8202 - val_loss: 0.2694 - val_accuracy: 0.9402\n",
      "Epoch 128/1000\n",
      "39/42 [==========================>...] - ETA: 0s - loss: 0.4962 - accuracy: 0.8287\n",
      "Epoch 128: saving model to model/keypoint_classifier\\keypoint_classifier.hdf5\n",
      "42/42 [==============================] - 0s 4ms/step - loss: 0.4979 - accuracy: 0.8273 - val_loss: 0.2571 - val_accuracy: 0.9430\n",
      "Epoch 129/1000\n",
      "42/42 [==============================] - ETA: 0s - loss: 0.5180 - accuracy: 0.8176\n",
      "Epoch 129: saving model to model/keypoint_classifier\\keypoint_classifier.hdf5\n",
      "42/42 [==============================] - 0s 4ms/step - loss: 0.5180 - accuracy: 0.8176 - val_loss: 0.2608 - val_accuracy: 0.9413\n",
      "Epoch 130/1000\n",
      "42/42 [==============================] - ETA: 0s - loss: 0.5075 - accuracy: 0.8254\n",
      "Epoch 130: saving model to model/keypoint_classifier\\keypoint_classifier.hdf5\n",
      "42/42 [==============================] - 0s 4ms/step - loss: 0.5075 - accuracy: 0.8254 - val_loss: 0.2682 - val_accuracy: 0.9396\n",
      "Epoch 131/1000\n",
      "41/42 [============================>.] - ETA: 0s - loss: 0.5219 - accuracy: 0.8251\n",
      "Epoch 131: saving model to model/keypoint_classifier\\keypoint_classifier.hdf5\n",
      "42/42 [==============================] - 0s 4ms/step - loss: 0.5233 - accuracy: 0.8247 - val_loss: 0.2666 - val_accuracy: 0.9430\n",
      "Epoch 132/1000\n",
      "24/42 [================>.............] - ETA: 0s - loss: 0.5220 - accuracy: 0.8158\n",
      "Epoch 132: saving model to model/keypoint_classifier\\keypoint_classifier.hdf5\n",
      "42/42 [==============================] - 0s 4ms/step - loss: 0.5126 - accuracy: 0.8219 - val_loss: 0.2672 - val_accuracy: 0.9402\n",
      "Epoch 133/1000\n",
      "24/42 [================>.............] - ETA: 0s - loss: 0.4955 - accuracy: 0.8216\n",
      "Epoch 133: saving model to model/keypoint_classifier\\keypoint_classifier.hdf5\n",
      "42/42 [==============================] - 0s 4ms/step - loss: 0.5138 - accuracy: 0.8206 - val_loss: 0.2637 - val_accuracy: 0.9413\n",
      "Epoch 134/1000\n",
      "42/42 [==============================] - ETA: 0s - loss: 0.5077 - accuracy: 0.8252\n",
      "Epoch 134: saving model to model/keypoint_classifier\\keypoint_classifier.hdf5\n",
      "42/42 [==============================] - 0s 4ms/step - loss: 0.5077 - accuracy: 0.8252 - val_loss: 0.2652 - val_accuracy: 0.9407\n",
      "Epoch 135/1000\n",
      "39/42 [==========================>...] - ETA: 0s - loss: 0.5242 - accuracy: 0.8119\n",
      "Epoch 135: saving model to model/keypoint_classifier\\keypoint_classifier.hdf5\n",
      "42/42 [==============================] - 0s 4ms/step - loss: 0.5148 - accuracy: 0.8165 - val_loss: 0.2563 - val_accuracy: 0.9413\n"
     ]
    },
    {
     "name": "stdout",
     "output_type": "stream",
     "text": [
      "Epoch 136/1000\n",
      "22/42 [==============>...............] - ETA: 0s - loss: 0.5237 - accuracy: 0.8260\n",
      "Epoch 136: saving model to model/keypoint_classifier\\keypoint_classifier.hdf5\n",
      "42/42 [==============================] - 0s 4ms/step - loss: 0.5068 - accuracy: 0.8286 - val_loss: 0.2639 - val_accuracy: 0.9430\n",
      "Epoch 137/1000\n",
      "38/42 [==========================>...] - ETA: 0s - loss: 0.5128 - accuracy: 0.8244\n",
      "Epoch 137: saving model to model/keypoint_classifier\\keypoint_classifier.hdf5\n",
      "42/42 [==============================] - 0s 5ms/step - loss: 0.5100 - accuracy: 0.8230 - val_loss: 0.2560 - val_accuracy: 0.9407\n",
      "Epoch 138/1000\n",
      "21/42 [==============>...............] - ETA: 0s - loss: 0.5155 - accuracy: 0.8281\n",
      "Epoch 138: saving model to model/keypoint_classifier\\keypoint_classifier.hdf5\n",
      "42/42 [==============================] - 0s 4ms/step - loss: 0.5003 - accuracy: 0.8286 - val_loss: 0.2495 - val_accuracy: 0.9452\n",
      "Epoch 139/1000\n",
      "40/42 [===========================>..] - ETA: 0s - loss: 0.5076 - accuracy: 0.8229\n",
      "Epoch 139: saving model to model/keypoint_classifier\\keypoint_classifier.hdf5\n",
      "42/42 [==============================] - 0s 5ms/step - loss: 0.5074 - accuracy: 0.8232 - val_loss: 0.2526 - val_accuracy: 0.9424\n",
      "Epoch 140/1000\n",
      "22/42 [==============>...............] - ETA: 0s - loss: 0.5130 - accuracy: 0.8246\n",
      "Epoch 140: saving model to model/keypoint_classifier\\keypoint_classifier.hdf5\n",
      "42/42 [==============================] - 0s 4ms/step - loss: 0.5004 - accuracy: 0.8280 - val_loss: 0.2538 - val_accuracy: 0.9458\n",
      "Epoch 141/1000\n",
      "24/42 [================>.............] - ETA: 0s - loss: 0.5145 - accuracy: 0.8187\n",
      "Epoch 141: saving model to model/keypoint_classifier\\keypoint_classifier.hdf5\n",
      "42/42 [==============================] - 0s 4ms/step - loss: 0.5165 - accuracy: 0.8202 - val_loss: 0.2601 - val_accuracy: 0.9402\n",
      "Epoch 142/1000\n",
      "22/42 [==============>...............] - ETA: 0s - loss: 0.5144 - accuracy: 0.8132\n",
      "Epoch 142: saving model to model/keypoint_classifier\\keypoint_classifier.hdf5\n",
      "42/42 [==============================] - 0s 4ms/step - loss: 0.5089 - accuracy: 0.8195 - val_loss: 0.2590 - val_accuracy: 0.9435\n",
      "Epoch 143/1000\n",
      "25/42 [================>.............] - ETA: 0s - loss: 0.5057 - accuracy: 0.8188\n",
      "Epoch 143: saving model to model/keypoint_classifier\\keypoint_classifier.hdf5\n",
      "42/42 [==============================] - 0s 4ms/step - loss: 0.5022 - accuracy: 0.8209 - val_loss: 0.2601 - val_accuracy: 0.9413\n",
      "Epoch 144/1000\n",
      "36/42 [========================>.....] - ETA: 0s - loss: 0.5064 - accuracy: 0.8260\n",
      "Epoch 144: saving model to model/keypoint_classifier\\keypoint_classifier.hdf5\n",
      "42/42 [==============================] - 0s 5ms/step - loss: 0.5084 - accuracy: 0.8243 - val_loss: 0.2619 - val_accuracy: 0.9413\n",
      "Epoch 145/1000\n",
      "40/42 [===========================>..] - ETA: 0s - loss: 0.5004 - accuracy: 0.8309\n",
      "Epoch 145: saving model to model/keypoint_classifier\\keypoint_classifier.hdf5\n",
      "42/42 [==============================] - 0s 4ms/step - loss: 0.5019 - accuracy: 0.8295 - val_loss: 0.2522 - val_accuracy: 0.9452\n",
      "Epoch 146/1000\n",
      "33/42 [======================>.......] - ETA: 0s - loss: 0.4865 - accuracy: 0.8269\n",
      "Epoch 146: saving model to model/keypoint_classifier\\keypoint_classifier.hdf5\n",
      "42/42 [==============================] - 0s 5ms/step - loss: 0.4962 - accuracy: 0.8256 - val_loss: 0.2514 - val_accuracy: 0.9458\n",
      "Epoch 147/1000\n",
      "24/42 [================>.............] - ETA: 0s - loss: 0.5093 - accuracy: 0.8249\n",
      "Epoch 147: saving model to model/keypoint_classifier\\keypoint_classifier.hdf5\n",
      "42/42 [==============================] - 0s 4ms/step - loss: 0.5037 - accuracy: 0.8217 - val_loss: 0.2577 - val_accuracy: 0.9430\n",
      "Epoch 148/1000\n",
      "24/42 [================>.............] - ETA: 0s - loss: 0.5032 - accuracy: 0.8245\n",
      "Epoch 148: saving model to model/keypoint_classifier\\keypoint_classifier.hdf5\n",
      "42/42 [==============================] - 0s 4ms/step - loss: 0.5118 - accuracy: 0.8163 - val_loss: 0.2518 - val_accuracy: 0.9430\n",
      "Epoch 149/1000\n",
      "24/42 [================>.............] - ETA: 0s - loss: 0.4829 - accuracy: 0.8294\n",
      "Epoch 149: saving model to model/keypoint_classifier\\keypoint_classifier.hdf5\n",
      "42/42 [==============================] - 0s 4ms/step - loss: 0.5065 - accuracy: 0.8258 - val_loss: 0.2645 - val_accuracy: 0.9419\n",
      "Epoch 150/1000\n",
      "35/42 [========================>.....] - ETA: 0s - loss: 0.4925 - accuracy: 0.8310\n",
      "Epoch 150: saving model to model/keypoint_classifier\\keypoint_classifier.hdf5\n",
      "42/42 [==============================] - 0s 5ms/step - loss: 0.4926 - accuracy: 0.8303 - val_loss: 0.2553 - val_accuracy: 0.9430\n",
      "Epoch 151/1000\n",
      "22/42 [==============>...............] - ETA: 0s - loss: 0.4946 - accuracy: 0.8232\n",
      "Epoch 151: saving model to model/keypoint_classifier\\keypoint_classifier.hdf5\n",
      "42/42 [==============================] - 0s 4ms/step - loss: 0.4941 - accuracy: 0.8280 - val_loss: 0.2552 - val_accuracy: 0.9435\n",
      "Epoch 152/1000\n",
      "24/42 [================>.............] - ETA: 0s - loss: 0.5013 - accuracy: 0.8236\n",
      "Epoch 152: saving model to model/keypoint_classifier\\keypoint_classifier.hdf5\n",
      "42/42 [==============================] - 0s 4ms/step - loss: 0.4979 - accuracy: 0.8297 - val_loss: 0.2605 - val_accuracy: 0.9430\n",
      "Epoch 153/1000\n",
      "25/42 [================>.............] - ETA: 0s - loss: 0.4978 - accuracy: 0.8225\n",
      "Epoch 153: saving model to model/keypoint_classifier\\keypoint_classifier.hdf5\n",
      "42/42 [==============================] - 0s 4ms/step - loss: 0.4952 - accuracy: 0.8247 - val_loss: 0.2651 - val_accuracy: 0.9419\n",
      "Epoch 154/1000\n",
      "24/42 [================>.............] - ETA: 0s - loss: 0.5220 - accuracy: 0.8242\n",
      "Epoch 154: saving model to model/keypoint_classifier\\keypoint_classifier.hdf5\n",
      "42/42 [==============================] - 0s 4ms/step - loss: 0.5265 - accuracy: 0.8172 - val_loss: 0.2594 - val_accuracy: 0.9435\n",
      "Epoch 155/1000\n",
      "34/42 [=======================>......] - ETA: 0s - loss: 0.5004 - accuracy: 0.8247\n",
      "Epoch 155: saving model to model/keypoint_classifier\\keypoint_classifier.hdf5\n",
      "42/42 [==============================] - 0s 5ms/step - loss: 0.4988 - accuracy: 0.8237 - val_loss: 0.2548 - val_accuracy: 0.9441\n",
      "Epoch 156/1000\n",
      "25/42 [================>.............] - ETA: 0s - loss: 0.4898 - accuracy: 0.8316\n",
      "Epoch 156: saving model to model/keypoint_classifier\\keypoint_classifier.hdf5\n",
      "42/42 [==============================] - 0s 4ms/step - loss: 0.4976 - accuracy: 0.8275 - val_loss: 0.2615 - val_accuracy: 0.9441\n",
      "Epoch 157/1000\n",
      "24/42 [================>.............] - ETA: 0s - loss: 0.4815 - accuracy: 0.8317\n",
      "Epoch 157: saving model to model/keypoint_classifier\\keypoint_classifier.hdf5\n",
      "42/42 [==============================] - 0s 4ms/step - loss: 0.4869 - accuracy: 0.8316 - val_loss: 0.2609 - val_accuracy: 0.9452\n",
      "Epoch 158/1000\n",
      "24/42 [================>.............] - ETA: 0s - loss: 0.5033 - accuracy: 0.8210\n",
      "Epoch 158: saving model to model/keypoint_classifier\\keypoint_classifier.hdf5\n",
      "42/42 [==============================] - 0s 4ms/step - loss: 0.4996 - accuracy: 0.8243 - val_loss: 0.2638 - val_accuracy: 0.9430\n",
      "Epoch 158: early stopping\n"
     ]
    },
    {
     "data": {
      "text/plain": [
       "<keras.callbacks.History at 0x22a042d2908>"
      ]
     },
     "execution_count": 12,
     "metadata": {},
     "output_type": "execute_result"
    }
   ],
   "source": [
    "model.fit(\n",
    "    X_train,\n",
    "    y_train,\n",
    "    epochs=1000,\n",
    "    batch_size=128,\n",
    "    validation_data=(X_test, y_test),\n",
    "    callbacks=[cp_callback, es_callback]\n",
    ")"
   ]
  },
  {
   "cell_type": "code",
   "execution_count": 13,
   "metadata": {
    "colab": {
     "base_uri": "https://localhost:8080/"
    },
    "id": "pxvb2Y299hE3",
    "outputId": "59eb3185-2e37-4b9e-bc9d-ab1b8ac29b7f"
   },
   "outputs": [
    {
     "name": "stdout",
     "output_type": "stream",
     "text": [
      "14/14 [==============================] - 0s 2ms/step - loss: 0.2638 - accuracy: 0.9430\n"
     ]
    }
   ],
   "source": [
    "# Model evaluation\n",
    "val_loss, val_acc = model.evaluate(X_test, y_test, batch_size=128)"
   ]
  },
  {
   "cell_type": "code",
   "execution_count": 14,
   "metadata": {
    "id": "RBkmDeUW9hE4"
   },
   "outputs": [],
   "source": [
    "# Loading the saved model\n",
    "model = tf.keras.models.load_model(model_save_path)"
   ]
  },
  {
   "cell_type": "code",
   "execution_count": 15,
   "metadata": {
    "colab": {
     "base_uri": "https://localhost:8080/"
    },
    "id": "tFz9Tb0I9hE4",
    "outputId": "1c3b3528-54ae-4ee2-ab04-77429211cbef"
   },
   "outputs": [
    {
     "name": "stdout",
     "output_type": "stream",
     "text": [
      "[8.5146679e-04 3.7214410e-02 2.9821394e-04 3.4041442e-08 7.8630783e-03\n",
      " 9.5377278e-01]\n",
      "5\n"
     ]
    }
   ],
   "source": [
    "# Inference test\n",
    "predict_result = model.predict(np.array([X_test[0]]))\n",
    "print(np.squeeze(predict_result))\n",
    "print(np.argmax(np.squeeze(predict_result)))"
   ]
  },
  {
   "cell_type": "markdown",
   "metadata": {
    "id": "S3U4yNWx9hE4"
   },
   "source": [
    "# Confusion matrix"
   ]
  },
  {
   "cell_type": "code",
   "execution_count": 16,
   "metadata": {
    "colab": {
     "base_uri": "https://localhost:8080/",
     "height": 582
    },
    "id": "AP1V6SCk9hE5",
    "outputId": "08e41a80-7a4a-4619-8125-ecc371368d19",
    "scrolled": true
   },
   "outputs": [
    {
     "data": {
      "image/png": "[encoded data removed]",
      "text/plain": [
       "<Figure size 504x432 with 2 Axes>"
      ]
     },
     "metadata": {
      "needs_background": "light"
     },
     "output_type": "display_data"
    },
    {
     "name": "stdout",
     "output_type": "stream",
     "text": [
      "Classification Report\n",
      "              precision    recall  f1-score   support\n",
      "\n",
      "           0       0.98      0.99      0.98       404\n",
      "           1       0.96      0.81      0.88       394\n",
      "           2       0.87      0.98      0.92       326\n",
      "           3       0.99      0.98      0.98        82\n",
      "           4       1.00      0.90      0.95        48\n",
      "           5       0.95      0.99      0.97       535\n",
      "\n",
      "    accuracy                           0.94      1789\n",
      "   macro avg       0.96      0.94      0.95      1789\n",
      "weighted avg       0.95      0.94      0.94      1789\n",
      "\n"
     ]
    }
   ],
   "source": [
    "import pandas as pd\n",
    "import seaborn as sns\n",
    "import matplotlib.pyplot as plt\n",
    "from sklearn.metrics import confusion_matrix, classification_report\n",
    "\n",
    "def print_confusion_matrix(y_true, y_pred, report=True):\n",
    "    labels = sorted(list(set(y_true)))\n",
    "    cmx_data = confusion_matrix(y_true, y_pred, labels=labels)\n",
    "    \n",
    "    df_cmx = pd.DataFrame(cmx_data, index=labels, columns=labels)\n",
    " \n",
    "    fig, ax = plt.subplots(figsize=(7, 6))\n",
    "    sns.heatmap(df_cmx, annot=True, fmt='g' ,square=False)\n",
    "    ax.set_ylim(len(set(y_true)), 0)\n",
    "    plt.show()\n",
    "    \n",
    "    if report:\n",
    "        print('Classification Report')\n",
    "        print(classification_report(y_test, y_pred))\n",
    "\n",
    "Y_pred = model.predict(X_test)\n",
    "y_pred = np.argmax(Y_pred, axis=1)\n",
    "\n",
    "print_confusion_matrix(y_test, y_pred)"
   ]
  },
  {
   "cell_type": "markdown",
   "metadata": {
    "id": "FNP6aqzc9hE5"
   },
   "source": [
    "# Convert to model for Tensorflow-Lite"
   ]
  },
  {
   "cell_type": "code",
   "execution_count": 17,
   "metadata": {
    "id": "ODjnYyld9hE6"
   },
   "outputs": [],
   "source": [
    "# Save as a model dedicated to inference\n",
    "model.save(model_save_path, include_optimizer=False)"
   ]
  },
  {
   "cell_type": "code",
   "execution_count": 18,
   "metadata": {
    "colab": {
     "base_uri": "https://localhost:8080/"
    },
    "id": "zRfuK8Y59hE6",
    "outputId": "a4ca585c-b5d5-4244-8291-8674063209bb"
   },
   "outputs": [
    {
     "name": "stdout",
     "output_type": "stream",
     "text": [
      "INFO:tensorflow:Assets written to: C:\\Users\\hrush\\AppData\\Local\\Temp\\tmpjkrhc7zb\\assets\n"
     ]
    },
    {
     "data": {
      "text/plain": [
       "6364"
      ]
     },
     "execution_count": 18,
     "metadata": {},
     "output_type": "execute_result"
    }
   ],
   "source": [
    "# Transform model (quantization)\n",
    "\n",
    "converter = tf.lite.TFLiteConverter.from_keras_model(model)\n",
    "converter.optimizations = [tf.lite.Optimize.DEFAULT]\n",
    "tflite_quantized_model = converter.convert()\n",
    "\n",
    "open(tflite_save_path, 'wb').write(tflite_quantized_model)"
   ]
  },
  {
   "cell_type": "markdown",
   "metadata": {
    "id": "CHBPBXdx9hE6"
   },
   "source": [
    "# Inference test"
   ]
  },
  {
   "cell_type": "code",
   "execution_count": 19,
   "metadata": {
    "id": "mGAzLocO9hE7"
   },
   "outputs": [],
   "source": [
    "interpreter = tf.lite.Interpreter(model_path=tflite_save_path)\n",
    "interpreter.allocate_tensors()"
   ]
  },
  {
   "cell_type": "code",
   "execution_count": 20,
   "metadata": {
    "id": "oQuDK8YS9hE7"
   },
   "outputs": [],
   "source": [
    "# Get I / O tensor\n",
    "input_details = interpreter.get_input_details()\n",
    "output_details = interpreter.get_output_details()"
   ]
  },
  {
   "cell_type": "code",
   "execution_count": 21,
   "metadata": {
    "id": "2_ixAf_l9hE7"
   },
   "outputs": [],
   "source": [
    "interpreter.set_tensor(input_details[0]['index'], np.array([X_test[0]]))"
   ]
  },
  {
   "cell_type": "code",
   "execution_count": 22,
   "metadata": {
    "colab": {
     "base_uri": "https://localhost:8080/"
    },
    "id": "s4FoAnuc9hE7",
    "outputId": "91f18257-8d8b-4ef3-c558-e9b5f94fabbf",
    "scrolled": true
   },
   "outputs": [
    {
     "name": "stdout",
     "output_type": "stream",
     "text": [
      "Wall time: 998 µs\n"
     ]
    }
   ],
   "source": [
    "%%time\n",
    "# Inference implementation\n",
    "interpreter.invoke()\n",
    "tflite_results = interpreter.get_tensor(output_details[0]['index'])"
   ]
  },
  {
   "cell_type": "code",
   "execution_count": 23,
   "metadata": {
    "colab": {
     "base_uri": "https://localhost:8080/"
    },
    "id": "vONjp19J9hE8",
    "outputId": "77205e24-fd00-42c4-f7b6-e06e527c2cba"
   },
   "outputs": [
    {
     "name": "stdout",
     "output_type": "stream",
     "text": [
      "[8.5146679e-04 3.7214458e-02 2.9821420e-04 3.4041502e-08 7.8630773e-03\n",
      " 9.5377278e-01]\n",
      "5\n"
     ]
    }
   ],
   "source": [
    "print(np.squeeze(tflite_results))\n",
    "print(np.argmax(np.squeeze(tflite_results)))"
   ]
  }
 ],
 "metadata": {
  "accelerator": "GPU",
  "colab": {
   "collapsed_sections": [],
   "name": "keypoint_classification_EN.ipynb",
   "provenance": [],
   "toc_visible": true
  },
  "kernelspec": {
   "display_name": "Python 3 (ipykernel)",
   "language": "python",
   "name": "python3"
  },
  "language_info": {
   "codemirror_mode": {
    "name": "ipython",
    "version": 3
   },
   "file_extension": ".py",
   "mimetype": "text/x-python",
   "name": "python",
   "nbconvert_exporter": "python",
   "pygments_lexer": "ipython3",
   "version": "3.7.10"
  }
 },
 "nbformat": 4,
 "nbformat_minor": 1
}
